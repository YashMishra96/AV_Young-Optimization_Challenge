{
 "cells": [
  {
   "cell_type": "code",
   "execution_count": 1,
   "metadata": {
    "collapsed": true
   },
   "outputs": [],
   "source": [
    "import pandas as pd\n",
    "import os\n",
    "import numpy as np\n",
    "%matplotlib inline\n",
    "import matplotlib.pyplot as plt\n",
    "from sklearn.ensemble import RandomForestRegressor\n",
    "from xgboost import XGBRegressor\n",
    "from sklearn.svm import SVR\n",
    "import time\n",
    "import warnings\n",
    "warnings.filterwarnings('ignore')\n",
    "from sklearn.preprocessing import LabelEncoder"
   ]
  },
  {
   "cell_type": "code",
   "execution_count": 2,
   "metadata": {
    "collapsed": true
   },
   "outputs": [],
   "source": [
    "train_root='/home/yash/Downloads/train_av'\n",
    "test_root='/home/yash/Downloads/test_av'\n",
    "sample_root='/home/yash/Downloads/sample_av'\n",
    "sample_demand=pd.read_csv(os.path.join(sample_root,'demand_forecast.csv'))\n",
    "sample_ship=pd.read_csv(os.path.join(sample_root,'shipping_region.csv'))\n",
    "test_demand=pd.read_csv(os.path.join(test_root,'demand_forecast.csv'))\n",
    "test_seq=pd.read_csv(os.path.join(test_root,'manufacture_sequence.csv'))\n",
    "test_ship=pd.read_csv(os.path.join(test_root,'shipping_region.csv'))\n",
    "historical_demand=pd.read_csv(os.path.join(train_root,'historical_demand.csv'))\n",
    "production_cost=pd.read_csv(os.path.join(train_root,'production_cost.csv'))\n",
    "demand_price=pd.read_csv(os.path.join(train_root,'demand_price.csv'))\n",
    "fixed_cost=pd.read_csv(os.path.join(train_root,'fixed_cost.csv'))\n",
    "changeover_cost=pd.read_csv(os.path.join(train_root,'changeover_cost.csv'))\n",
    "delivery_cost=pd.read_csv(os.path.join(train_root,'delivery_cost.csv'))\n",
    "changeover_days=pd.read_csv(os.path.join(train_root,'changeover_days.csv'))\n",
    "production_capacity=pd.read_csv(os.path.join(train_root,'production_capacity.csv'))\n",
    "all_train=[historical_demand,production_cost,demand_price,fixed_cost,changeover_cost,delivery_cost,\n",
    "           changeover_days,production_capacity]\n",
    "names=['historical_demand','production_cost','demand_price','fixed_cost','changeover_cost','delivery_cost',\n",
    "           'changeover_days','production_capacity']\n",
    "description=pd.DataFrame({'shape':[i.shape for i in all_train],'columns':[i.columns.values for i in all_train]},\\\n",
    "                         index=names)\n"
   ]
  },
  {
   "cell_type": "code",
   "execution_count": 3,
   "metadata": {},
   "outputs": [
    {
     "data": {
      "text/html": [
       "<div>\n",
       "<style>\n",
       "    .dataframe thead tr:only-child th {\n",
       "        text-align: right;\n",
       "    }\n",
       "\n",
       "    .dataframe thead th {\n",
       "        text-align: left;\n",
       "    }\n",
       "\n",
       "    .dataframe tbody tr th {\n",
       "        vertical-align: top;\n",
       "    }\n",
       "</style>\n",
       "<table border=\"1\" class=\"dataframe\">\n",
       "  <thead>\n",
       "    <tr style=\"text-align: right;\">\n",
       "      <th></th>\n",
       "      <th>columns</th>\n",
       "      <th>shape</th>\n",
       "    </tr>\n",
       "  </thead>\n",
       "  <tbody>\n",
       "    <tr>\n",
       "      <th>historical_demand</th>\n",
       "      <td>[Product_ID, Region, Month, Demand]</td>\n",
       "      <td>(52488, 4)</td>\n",
       "    </tr>\n",
       "    <tr>\n",
       "      <th>production_cost</th>\n",
       "      <td>[Product_ID, Plant, Production_cost]</td>\n",
       "      <td>(243, 3)</td>\n",
       "    </tr>\n",
       "    <tr>\n",
       "      <th>demand_price</th>\n",
       "      <td>[Product_ID, Region, Demand_price]</td>\n",
       "      <td>(1458, 3)</td>\n",
       "    </tr>\n",
       "    <tr>\n",
       "      <th>fixed_cost</th>\n",
       "      <td>[Plant, Line, Cost]</td>\n",
       "      <td>(6, 3)</td>\n",
       "    </tr>\n",
       "    <tr>\n",
       "      <th>changeover_cost</th>\n",
       "      <td>[Plant, Line, Cost]</td>\n",
       "      <td>(6, 3)</td>\n",
       "    </tr>\n",
       "    <tr>\n",
       "      <th>delivery_cost</th>\n",
       "      <td>[Plant, Region, Delivery_cost]</td>\n",
       "      <td>(54, 3)</td>\n",
       "    </tr>\n",
       "    <tr>\n",
       "      <th>changeover_days</th>\n",
       "      <td>[From, To, Days]</td>\n",
       "      <td>(6561, 3)</td>\n",
       "    </tr>\n",
       "    <tr>\n",
       "      <th>production_capacity</th>\n",
       "      <td>[Plant, Line, Product, Capacity]</td>\n",
       "      <td>(486, 4)</td>\n",
       "    </tr>\n",
       "  </tbody>\n",
       "</table>\n",
       "</div>"
      ],
      "text/plain": [
       "                                                  columns       shape\n",
       "historical_demand     [Product_ID, Region, Month, Demand]  (52488, 4)\n",
       "production_cost      [Product_ID, Plant, Production_cost]    (243, 3)\n",
       "demand_price           [Product_ID, Region, Demand_price]   (1458, 3)\n",
       "fixed_cost                            [Plant, Line, Cost]      (6, 3)\n",
       "changeover_cost                       [Plant, Line, Cost]      (6, 3)\n",
       "delivery_cost              [Plant, Region, Delivery_cost]     (54, 3)\n",
       "changeover_days                          [From, To, Days]   (6561, 3)\n",
       "production_capacity      [Plant, Line, Product, Capacity]    (486, 4)"
      ]
     },
     "execution_count": 3,
     "metadata": {},
     "output_type": "execute_result"
    }
   ],
   "source": [
    "description"
   ]
  },
  {
   "cell_type": "code",
   "execution_count": 4,
   "metadata": {},
   "outputs": [
    {
     "data": {
      "text/html": [
       "<div>\n",
       "<style>\n",
       "    .dataframe thead tr:only-child th {\n",
       "        text-align: right;\n",
       "    }\n",
       "\n",
       "    .dataframe thead th {\n",
       "        text-align: left;\n",
       "    }\n",
       "\n",
       "    .dataframe tbody tr th {\n",
       "        vertical-align: top;\n",
       "    }\n",
       "</style>\n",
       "<table border=\"1\" class=\"dataframe\">\n",
       "  <thead>\n",
       "    <tr style=\"text-align: right;\">\n",
       "      <th></th>\n",
       "      <th>Product_ID</th>\n",
       "      <th>Region</th>\n",
       "      <th>Month</th>\n",
       "      <th>Demand</th>\n",
       "    </tr>\n",
       "  </thead>\n",
       "  <tbody>\n",
       "    <tr>\n",
       "      <th>0</th>\n",
       "      <td>P1</td>\n",
       "      <td>R1</td>\n",
       "      <td>1</td>\n",
       "      <td>0.0</td>\n",
       "    </tr>\n",
       "    <tr>\n",
       "      <th>1</th>\n",
       "      <td>P1</td>\n",
       "      <td>R1</td>\n",
       "      <td>2</td>\n",
       "      <td>0.0</td>\n",
       "    </tr>\n",
       "    <tr>\n",
       "      <th>2</th>\n",
       "      <td>P1</td>\n",
       "      <td>R1</td>\n",
       "      <td>3</td>\n",
       "      <td>0.0</td>\n",
       "    </tr>\n",
       "    <tr>\n",
       "      <th>3</th>\n",
       "      <td>P1</td>\n",
       "      <td>R1</td>\n",
       "      <td>4</td>\n",
       "      <td>0.0</td>\n",
       "    </tr>\n",
       "    <tr>\n",
       "      <th>4</th>\n",
       "      <td>P1</td>\n",
       "      <td>R1</td>\n",
       "      <td>5</td>\n",
       "      <td>0.0</td>\n",
       "    </tr>\n",
       "  </tbody>\n",
       "</table>\n",
       "</div>"
      ],
      "text/plain": [
       "  Product_ID Region  Month  Demand\n",
       "0         P1     R1      1     0.0\n",
       "1         P1     R1      2     0.0\n",
       "2         P1     R1      3     0.0\n",
       "3         P1     R1      4     0.0\n",
       "4         P1     R1      5     0.0"
      ]
     },
     "execution_count": 4,
     "metadata": {},
     "output_type": "execute_result"
    }
   ],
   "source": [
    "historical_demand.head()"
   ]
  },
  {
   "cell_type": "code",
   "execution_count": 5,
   "metadata": {},
   "outputs": [
    {
     "data": {
      "text/plain": [
       "<matplotlib.axes._subplots.AxesSubplot at 0x7efdb8e13278>"
      ]
     },
     "execution_count": 5,
     "metadata": {},
     "output_type": "execute_result"
    },
    {
     "data": {
      "image/png": "[encoded data removed]",
      "text/plain": [
       "<matplotlib.figure.Figure at 0x7efdb8e13a90>"
      ]
     },
     "metadata": {},
     "output_type": "display_data"
    }
   ],
   "source": [
    "plt.figure(figsize=(10,10))\n",
    "historical_demand.groupby('Product_ID').Demand.sum()[historical_demand.groupby('Product_ID').Demand.sum()!=0].plot(kind='bar')"
   ]
  },
  {
   "cell_type": "code",
   "execution_count": 6,
   "metadata": {},
   "outputs": [
    {
     "data": {
      "text/html": [
       "<div>\n",
       "<style>\n",
       "    .dataframe thead tr:only-child th {\n",
       "        text-align: right;\n",
       "    }\n",
       "\n",
       "    .dataframe thead th {\n",
       "        text-align: left;\n",
       "    }\n",
       "\n",
       "    .dataframe tbody tr th {\n",
       "        vertical-align: top;\n",
       "    }\n",
       "</style>\n",
       "<table border=\"1\" class=\"dataframe\">\n",
       "  <thead>\n",
       "    <tr style=\"text-align: right;\">\n",
       "      <th></th>\n",
       "      <th>Plant</th>\n",
       "      <th>Line</th>\n",
       "      <th>Cost</th>\n",
       "    </tr>\n",
       "  </thead>\n",
       "  <tbody>\n",
       "    <tr>\n",
       "      <th>0</th>\n",
       "      <td>A</td>\n",
       "      <td>1</td>\n",
       "      <td>33536.00</td>\n",
       "    </tr>\n",
       "    <tr>\n",
       "      <th>1</th>\n",
       "      <td>A</td>\n",
       "      <td>2</td>\n",
       "      <td>15947.00</td>\n",
       "    </tr>\n",
       "    <tr>\n",
       "      <th>2</th>\n",
       "      <td>B</td>\n",
       "      <td>1</td>\n",
       "      <td>13333.00</td>\n",
       "    </tr>\n",
       "    <tr>\n",
       "      <th>3</th>\n",
       "      <td>B</td>\n",
       "      <td>2</td>\n",
       "      <td>13333.00</td>\n",
       "    </tr>\n",
       "    <tr>\n",
       "      <th>4</th>\n",
       "      <td>B</td>\n",
       "      <td>3</td>\n",
       "      <td>13333.00</td>\n",
       "    </tr>\n",
       "    <tr>\n",
       "      <th>5</th>\n",
       "      <td>C</td>\n",
       "      <td>1</td>\n",
       "      <td>54353.39</td>\n",
       "    </tr>\n",
       "  </tbody>\n",
       "</table>\n",
       "</div>"
      ],
      "text/plain": [
       "  Plant  Line      Cost\n",
       "0     A     1  33536.00\n",
       "1     A     2  15947.00\n",
       "2     B     1  13333.00\n",
       "3     B     2  13333.00\n",
       "4     B     3  13333.00\n",
       "5     C     1  54353.39"
      ]
     },
     "execution_count": 6,
     "metadata": {},
     "output_type": "execute_result"
    }
   ],
   "source": [
    "changeover_cost.head(6)"
   ]
  },
  {
   "cell_type": "code",
   "execution_count": 7,
   "metadata": {},
   "outputs": [
    {
     "name": "stdout",
     "output_type": "stream",
     "text": [
      "10    2916\n",
      "2     1207\n",
      "1     1134\n",
      "3      504\n",
      "5      504\n",
      "4      215\n",
      "0       81\n",
      "Name: Days, dtype: int64\n"
     ]
    },
    {
     "data": {
      "text/html": [
       "<div>\n",
       "<style>\n",
       "    .dataframe thead tr:only-child th {\n",
       "        text-align: right;\n",
       "    }\n",
       "\n",
       "    .dataframe thead th {\n",
       "        text-align: left;\n",
       "    }\n",
       "\n",
       "    .dataframe tbody tr th {\n",
       "        vertical-align: top;\n",
       "    }\n",
       "</style>\n",
       "<table border=\"1\" class=\"dataframe\">\n",
       "  <thead>\n",
       "    <tr style=\"text-align: right;\">\n",
       "      <th></th>\n",
       "      <th>From</th>\n",
       "      <th>To</th>\n",
       "      <th>Days</th>\n",
       "    </tr>\n",
       "  </thead>\n",
       "  <tbody>\n",
       "    <tr>\n",
       "      <th>0</th>\n",
       "      <td>P1</td>\n",
       "      <td>P1</td>\n",
       "      <td>0</td>\n",
       "    </tr>\n",
       "    <tr>\n",
       "      <th>1</th>\n",
       "      <td>P2</td>\n",
       "      <td>P1</td>\n",
       "      <td>1</td>\n",
       "    </tr>\n",
       "    <tr>\n",
       "      <th>2</th>\n",
       "      <td>P3</td>\n",
       "      <td>P1</td>\n",
       "      <td>1</td>\n",
       "    </tr>\n",
       "    <tr>\n",
       "      <th>3</th>\n",
       "      <td>P4</td>\n",
       "      <td>P1</td>\n",
       "      <td>1</td>\n",
       "    </tr>\n",
       "    <tr>\n",
       "      <th>4</th>\n",
       "      <td>P5</td>\n",
       "      <td>P1</td>\n",
       "      <td>1</td>\n",
       "    </tr>\n",
       "  </tbody>\n",
       "</table>\n",
       "</div>"
      ],
      "text/plain": [
       "  From  To  Days\n",
       "0   P1  P1     0\n",
       "1   P2  P1     1\n",
       "2   P3  P1     1\n",
       "3   P4  P1     1\n",
       "4   P5  P1     1"
      ]
     },
     "execution_count": 7,
     "metadata": {},
     "output_type": "execute_result"
    }
   ],
   "source": [
    "print (changeover_days.Days.value_counts())\n",
    "changeover_days.head()#when from=to days=0"
   ]
  },
  {
   "cell_type": "code",
   "execution_count": 163,
   "metadata": {},
   "outputs": [
    {
     "data": {
      "text/html": [
       "<div>\n",
       "<style>\n",
       "    .dataframe thead tr:only-child th {\n",
       "        text-align: right;\n",
       "    }\n",
       "\n",
       "    .dataframe thead th {\n",
       "        text-align: left;\n",
       "    }\n",
       "\n",
       "    .dataframe tbody tr th {\n",
       "        vertical-align: top;\n",
       "    }\n",
       "</style>\n",
       "<table border=\"1\" class=\"dataframe\">\n",
       "  <thead>\n",
       "    <tr style=\"text-align: right;\">\n",
       "      <th></th>\n",
       "      <th>Product_ID</th>\n",
       "      <th>Region</th>\n",
       "      <th>Demand_price</th>\n",
       "    </tr>\n",
       "  </thead>\n",
       "  <tbody>\n",
       "    <tr>\n",
       "      <th>0</th>\n",
       "      <td>P1</td>\n",
       "      <td>R1</td>\n",
       "      <td>0.0</td>\n",
       "    </tr>\n",
       "    <tr>\n",
       "      <th>1</th>\n",
       "      <td>P2</td>\n",
       "      <td>R1</td>\n",
       "      <td>0.0</td>\n",
       "    </tr>\n",
       "    <tr>\n",
       "      <th>2</th>\n",
       "      <td>P3</td>\n",
       "      <td>R1</td>\n",
       "      <td>0.0</td>\n",
       "    </tr>\n",
       "    <tr>\n",
       "      <th>3</th>\n",
       "      <td>P4</td>\n",
       "      <td>R1</td>\n",
       "      <td>0.0</td>\n",
       "    </tr>\n",
       "    <tr>\n",
       "      <th>4</th>\n",
       "      <td>P5</td>\n",
       "      <td>R1</td>\n",
       "      <td>0.0</td>\n",
       "    </tr>\n",
       "  </tbody>\n",
       "</table>\n",
       "</div>"
      ],
      "text/plain": [
       "  Product_ID Region  Demand_price\n",
       "0         P1     R1           0.0\n",
       "1         P2     R1           0.0\n",
       "2         P3     R1           0.0\n",
       "3         P4     R1           0.0\n",
       "4         P5     R1           0.0"
      ]
     },
     "execution_count": 163,
     "metadata": {},
     "output_type": "execute_result"
    }
   ],
   "source": [
    "demand_price.head()"
   ]
  },
  {
   "cell_type": "code",
   "execution_count": 9,
   "metadata": {},
   "outputs": [
    {
     "data": {
      "text/plain": [
       "<matplotlib.axes._subplots.AxesSubplot at 0x7efdb04161d0>"
      ]
     },
     "execution_count": 9,
     "metadata": {},
     "output_type": "execute_result"
    },
    {
     "data": {
      "image/png": "[encoded data removed]",
      "text/plain": [
       "<matplotlib.figure.Figure at 0x7efdb038a978>"
      ]
     },
     "metadata": {},
     "output_type": "display_data"
    }
   ],
   "source": [
    "fig=plt.figure(figsize=(12,12))\n",
    "demand_price.groupby('Product_ID').Demand_price.mean().plot('bar')"
   ]
  },
  {
   "cell_type": "code",
   "execution_count": 10,
   "metadata": {},
   "outputs": [
    {
     "data": {
      "text/html": [
       "<div>\n",
       "<style>\n",
       "    .dataframe thead tr:only-child th {\n",
       "        text-align: right;\n",
       "    }\n",
       "\n",
       "    .dataframe thead th {\n",
       "        text-align: left;\n",
       "    }\n",
       "\n",
       "    .dataframe tbody tr th {\n",
       "        vertical-align: top;\n",
       "    }\n",
       "</style>\n",
       "<table border=\"1\" class=\"dataframe\">\n",
       "  <thead>\n",
       "    <tr style=\"text-align: right;\">\n",
       "      <th></th>\n",
       "      <th>Plant</th>\n",
       "      <th>Line</th>\n",
       "      <th>Product</th>\n",
       "      <th>Capacity</th>\n",
       "    </tr>\n",
       "  </thead>\n",
       "  <tbody>\n",
       "    <tr>\n",
       "      <th>0</th>\n",
       "      <td>A</td>\n",
       "      <td>1</td>\n",
       "      <td>P1</td>\n",
       "      <td>0</td>\n",
       "    </tr>\n",
       "    <tr>\n",
       "      <th>1</th>\n",
       "      <td>A</td>\n",
       "      <td>1</td>\n",
       "      <td>P2</td>\n",
       "      <td>0</td>\n",
       "    </tr>\n",
       "    <tr>\n",
       "      <th>2</th>\n",
       "      <td>A</td>\n",
       "      <td>1</td>\n",
       "      <td>P3</td>\n",
       "      <td>210</td>\n",
       "    </tr>\n",
       "    <tr>\n",
       "      <th>3</th>\n",
       "      <td>A</td>\n",
       "      <td>1</td>\n",
       "      <td>P4</td>\n",
       "      <td>0</td>\n",
       "    </tr>\n",
       "    <tr>\n",
       "      <th>4</th>\n",
       "      <td>A</td>\n",
       "      <td>1</td>\n",
       "      <td>P5</td>\n",
       "      <td>210</td>\n",
       "    </tr>\n",
       "  </tbody>\n",
       "</table>\n",
       "</div>"
      ],
      "text/plain": [
       "  Plant  Line Product  Capacity\n",
       "0     A     1      P1         0\n",
       "1     A     1      P2         0\n",
       "2     A     1      P3       210\n",
       "3     A     1      P4         0\n",
       "4     A     1      P5       210"
      ]
     },
     "execution_count": 10,
     "metadata": {},
     "output_type": "execute_result"
    }
   ],
   "source": [
    "production_capacity.head()"
   ]
  },
  {
   "cell_type": "code",
   "execution_count": 11,
   "metadata": {},
   "outputs": [
    {
     "data": {
      "text/plain": [
       "count    486.000000\n",
       "mean      41.454733\n",
       "std       69.659740\n",
       "min        0.000000\n",
       "25%        0.000000\n",
       "50%        0.000000\n",
       "75%       75.000000\n",
       "max      343.000000\n",
       "Name: Capacity, dtype: float64"
      ]
     },
     "execution_count": 11,
     "metadata": {},
     "output_type": "execute_result"
    }
   ],
   "source": [
    "production_capacity.Capacity.describe()"
   ]
  },
  {
   "cell_type": "code",
   "execution_count": 12,
   "metadata": {},
   "outputs": [
    {
     "data": {
      "text/html": [
       "<div>\n",
       "<style>\n",
       "    .dataframe thead tr:only-child th {\n",
       "        text-align: right;\n",
       "    }\n",
       "\n",
       "    .dataframe thead th {\n",
       "        text-align: left;\n",
       "    }\n",
       "\n",
       "    .dataframe tbody tr th {\n",
       "        vertical-align: top;\n",
       "    }\n",
       "</style>\n",
       "<table border=\"1\" class=\"dataframe\">\n",
       "  <thead>\n",
       "    <tr style=\"text-align: right;\">\n",
       "      <th></th>\n",
       "      <th>Plant</th>\n",
       "      <th>Line</th>\n",
       "      <th>Cost</th>\n",
       "    </tr>\n",
       "  </thead>\n",
       "  <tbody>\n",
       "    <tr>\n",
       "      <th>0</th>\n",
       "      <td>A</td>\n",
       "      <td>1</td>\n",
       "      <td>33536.00</td>\n",
       "    </tr>\n",
       "    <tr>\n",
       "      <th>1</th>\n",
       "      <td>A</td>\n",
       "      <td>2</td>\n",
       "      <td>15947.00</td>\n",
       "    </tr>\n",
       "    <tr>\n",
       "      <th>2</th>\n",
       "      <td>B</td>\n",
       "      <td>1</td>\n",
       "      <td>13333.00</td>\n",
       "    </tr>\n",
       "    <tr>\n",
       "      <th>3</th>\n",
       "      <td>B</td>\n",
       "      <td>2</td>\n",
       "      <td>13333.00</td>\n",
       "    </tr>\n",
       "    <tr>\n",
       "      <th>4</th>\n",
       "      <td>B</td>\n",
       "      <td>3</td>\n",
       "      <td>13333.00</td>\n",
       "    </tr>\n",
       "    <tr>\n",
       "      <th>5</th>\n",
       "      <td>C</td>\n",
       "      <td>1</td>\n",
       "      <td>54353.39</td>\n",
       "    </tr>\n",
       "  </tbody>\n",
       "</table>\n",
       "</div>"
      ],
      "text/plain": [
       "  Plant  Line      Cost\n",
       "0     A     1  33536.00\n",
       "1     A     2  15947.00\n",
       "2     B     1  13333.00\n",
       "3     B     2  13333.00\n",
       "4     B     3  13333.00\n",
       "5     C     1  54353.39"
      ]
     },
     "execution_count": 12,
     "metadata": {},
     "output_type": "execute_result"
    }
   ],
   "source": [
    "fixed_cost.head(6)"
   ]
  },
  {
   "cell_type": "code",
   "execution_count": 13,
   "metadata": {},
   "outputs": [
    {
     "data": {
      "text/html": [
       "<div>\n",
       "<style>\n",
       "    .dataframe thead tr:only-child th {\n",
       "        text-align: right;\n",
       "    }\n",
       "\n",
       "    .dataframe thead th {\n",
       "        text-align: left;\n",
       "    }\n",
       "\n",
       "    .dataframe tbody tr th {\n",
       "        vertical-align: top;\n",
       "    }\n",
       "</style>\n",
       "<table border=\"1\" class=\"dataframe\">\n",
       "  <thead>\n",
       "    <tr style=\"text-align: right;\">\n",
       "      <th></th>\n",
       "      <th>Product_ID</th>\n",
       "      <th>Plant</th>\n",
       "      <th>Production_cost</th>\n",
       "    </tr>\n",
       "  </thead>\n",
       "  <tbody>\n",
       "    <tr>\n",
       "      <th>0</th>\n",
       "      <td>P1</td>\n",
       "      <td>A</td>\n",
       "      <td>0.00</td>\n",
       "    </tr>\n",
       "    <tr>\n",
       "      <th>1</th>\n",
       "      <td>P2</td>\n",
       "      <td>A</td>\n",
       "      <td>0.00</td>\n",
       "    </tr>\n",
       "    <tr>\n",
       "      <th>2</th>\n",
       "      <td>P3</td>\n",
       "      <td>A</td>\n",
       "      <td>984.44</td>\n",
       "    </tr>\n",
       "    <tr>\n",
       "      <th>3</th>\n",
       "      <td>P4</td>\n",
       "      <td>A</td>\n",
       "      <td>0.00</td>\n",
       "    </tr>\n",
       "    <tr>\n",
       "      <th>4</th>\n",
       "      <td>P5</td>\n",
       "      <td>A</td>\n",
       "      <td>1358.41</td>\n",
       "    </tr>\n",
       "  </tbody>\n",
       "</table>\n",
       "</div>"
      ],
      "text/plain": [
       "  Product_ID Plant  Production_cost\n",
       "0         P1     A             0.00\n",
       "1         P2     A             0.00\n",
       "2         P3     A           984.44\n",
       "3         P4     A             0.00\n",
       "4         P5     A          1358.41"
      ]
     },
     "execution_count": 13,
     "metadata": {},
     "output_type": "execute_result"
    }
   ],
   "source": [
    "production_cost.head()"
   ]
  },
  {
   "cell_type": "code",
   "execution_count": 14,
   "metadata": {},
   "outputs": [
    {
     "data": {
      "text/html": [
       "<div>\n",
       "<style>\n",
       "    .dataframe thead tr:only-child th {\n",
       "        text-align: right;\n",
       "    }\n",
       "\n",
       "    .dataframe thead th {\n",
       "        text-align: left;\n",
       "    }\n",
       "\n",
       "    .dataframe tbody tr th {\n",
       "        vertical-align: top;\n",
       "    }\n",
       "</style>\n",
       "<table border=\"1\" class=\"dataframe\">\n",
       "  <thead>\n",
       "    <tr style=\"text-align: right;\">\n",
       "      <th></th>\n",
       "      <th>Plant</th>\n",
       "      <th>Region</th>\n",
       "      <th>Delivery_cost</th>\n",
       "    </tr>\n",
       "  </thead>\n",
       "  <tbody>\n",
       "    <tr>\n",
       "      <th>0</th>\n",
       "      <td>A</td>\n",
       "      <td>R1</td>\n",
       "      <td>85.541475</td>\n",
       "    </tr>\n",
       "    <tr>\n",
       "      <th>1</th>\n",
       "      <td>A</td>\n",
       "      <td>R2</td>\n",
       "      <td>223.934332</td>\n",
       "    </tr>\n",
       "    <tr>\n",
       "      <th>2</th>\n",
       "      <td>A</td>\n",
       "      <td>R3</td>\n",
       "      <td>34.648618</td>\n",
       "    </tr>\n",
       "    <tr>\n",
       "      <th>3</th>\n",
       "      <td>A</td>\n",
       "      <td>R4</td>\n",
       "      <td>32.059332</td>\n",
       "    </tr>\n",
       "    <tr>\n",
       "      <th>4</th>\n",
       "      <td>A</td>\n",
       "      <td>R5</td>\n",
       "      <td>121.255760</td>\n",
       "    </tr>\n",
       "  </tbody>\n",
       "</table>\n",
       "</div>"
      ],
      "text/plain": [
       "  Plant Region  Delivery_cost\n",
       "0     A     R1      85.541475\n",
       "1     A     R2     223.934332\n",
       "2     A     R3      34.648618\n",
       "3     A     R4      32.059332\n",
       "4     A     R5     121.255760"
      ]
     },
     "execution_count": 14,
     "metadata": {},
     "output_type": "execute_result"
    }
   ],
   "source": [
    "delivery_cost.head()"
   ]
  },
  {
   "cell_type": "code",
   "execution_count": 15,
   "metadata": {},
   "outputs": [
    {
     "name": "stdout",
     "output_type": "stream",
     "text": [
      "(4374, 4)\n"
     ]
    },
    {
     "data": {
      "text/html": [
       "<div>\n",
       "<style>\n",
       "    .dataframe thead tr:only-child th {\n",
       "        text-align: right;\n",
       "    }\n",
       "\n",
       "    .dataframe thead th {\n",
       "        text-align: left;\n",
       "    }\n",
       "\n",
       "    .dataframe tbody tr th {\n",
       "        vertical-align: top;\n",
       "    }\n",
       "</style>\n",
       "<table border=\"1\" class=\"dataframe\">\n",
       "  <thead>\n",
       "    <tr style=\"text-align: right;\">\n",
       "      <th></th>\n",
       "      <th>Product_ID</th>\n",
       "      <th>Region</th>\n",
       "      <th>Month</th>\n",
       "      <th>Demand</th>\n",
       "    </tr>\n",
       "  </thead>\n",
       "  <tbody>\n",
       "    <tr>\n",
       "      <th>0</th>\n",
       "      <td>P1</td>\n",
       "      <td>R1</td>\n",
       "      <td>37</td>\n",
       "      <td>NaN</td>\n",
       "    </tr>\n",
       "    <tr>\n",
       "      <th>1</th>\n",
       "      <td>P1</td>\n",
       "      <td>R1</td>\n",
       "      <td>38</td>\n",
       "      <td>NaN</td>\n",
       "    </tr>\n",
       "    <tr>\n",
       "      <th>2</th>\n",
       "      <td>P1</td>\n",
       "      <td>R1</td>\n",
       "      <td>39</td>\n",
       "      <td>NaN</td>\n",
       "    </tr>\n",
       "    <tr>\n",
       "      <th>3</th>\n",
       "      <td>P1</td>\n",
       "      <td>R10</td>\n",
       "      <td>37</td>\n",
       "      <td>NaN</td>\n",
       "    </tr>\n",
       "    <tr>\n",
       "      <th>4</th>\n",
       "      <td>P1</td>\n",
       "      <td>R10</td>\n",
       "      <td>38</td>\n",
       "      <td>NaN</td>\n",
       "    </tr>\n",
       "  </tbody>\n",
       "</table>\n",
       "</div>"
      ],
      "text/plain": [
       "  Product_ID Region  Month  Demand\n",
       "0         P1     R1     37     NaN\n",
       "1         P1     R1     38     NaN\n",
       "2         P1     R1     39     NaN\n",
       "3         P1    R10     37     NaN\n",
       "4         P1    R10     38     NaN"
      ]
     },
     "execution_count": 15,
     "metadata": {},
     "output_type": "execute_result"
    }
   ],
   "source": [
    "print (test_demand.shape)\n",
    "test_demand.head(5)"
   ]
  },
  {
   "cell_type": "code",
   "execution_count": 16,
   "metadata": {},
   "outputs": [
    {
     "name": "stdout",
     "output_type": "stream",
     "text": [
      "(540, 5)\n"
     ]
    },
    {
     "data": {
      "text/html": [
       "<div>\n",
       "<style>\n",
       "    .dataframe thead tr:only-child th {\n",
       "        text-align: right;\n",
       "    }\n",
       "\n",
       "    .dataframe thead th {\n",
       "        text-align: left;\n",
       "    }\n",
       "\n",
       "    .dataframe tbody tr th {\n",
       "        vertical-align: top;\n",
       "    }\n",
       "</style>\n",
       "<table border=\"1\" class=\"dataframe\">\n",
       "  <thead>\n",
       "    <tr style=\"text-align: right;\">\n",
       "      <th></th>\n",
       "      <th>Plant</th>\n",
       "      <th>Line</th>\n",
       "      <th>Month</th>\n",
       "      <th>Day</th>\n",
       "      <th>Product_ID</th>\n",
       "    </tr>\n",
       "  </thead>\n",
       "  <tbody>\n",
       "    <tr>\n",
       "      <th>0</th>\n",
       "      <td>A</td>\n",
       "      <td>1</td>\n",
       "      <td>37</td>\n",
       "      <td>1</td>\n",
       "      <td>NaN</td>\n",
       "    </tr>\n",
       "    <tr>\n",
       "      <th>1</th>\n",
       "      <td>A</td>\n",
       "      <td>1</td>\n",
       "      <td>37</td>\n",
       "      <td>2</td>\n",
       "      <td>NaN</td>\n",
       "    </tr>\n",
       "    <tr>\n",
       "      <th>2</th>\n",
       "      <td>A</td>\n",
       "      <td>1</td>\n",
       "      <td>37</td>\n",
       "      <td>3</td>\n",
       "      <td>NaN</td>\n",
       "    </tr>\n",
       "    <tr>\n",
       "      <th>3</th>\n",
       "      <td>A</td>\n",
       "      <td>1</td>\n",
       "      <td>37</td>\n",
       "      <td>4</td>\n",
       "      <td>NaN</td>\n",
       "    </tr>\n",
       "    <tr>\n",
       "      <th>4</th>\n",
       "      <td>A</td>\n",
       "      <td>1</td>\n",
       "      <td>37</td>\n",
       "      <td>5</td>\n",
       "      <td>NaN</td>\n",
       "    </tr>\n",
       "  </tbody>\n",
       "</table>\n",
       "</div>"
      ],
      "text/plain": [
       "  Plant  Line  Month  Day  Product_ID\n",
       "0     A     1     37    1         NaN\n",
       "1     A     1     37    2         NaN\n",
       "2     A     1     37    3         NaN\n",
       "3     A     1     37    4         NaN\n",
       "4     A     1     37    5         NaN"
      ]
     },
     "execution_count": 16,
     "metadata": {},
     "output_type": "execute_result"
    }
   ],
   "source": [
    "print (test_seq.shape)\n",
    "test_seq.head()"
   ]
  },
  {
   "cell_type": "code",
   "execution_count": 17,
   "metadata": {},
   "outputs": [
    {
     "name": "stdout",
     "output_type": "stream",
     "text": [
      "(13122, 5)\n"
     ]
    },
    {
     "data": {
      "text/html": [
       "<div>\n",
       "<style>\n",
       "    .dataframe thead tr:only-child th {\n",
       "        text-align: right;\n",
       "    }\n",
       "\n",
       "    .dataframe thead th {\n",
       "        text-align: left;\n",
       "    }\n",
       "\n",
       "    .dataframe tbody tr th {\n",
       "        vertical-align: top;\n",
       "    }\n",
       "</style>\n",
       "<table border=\"1\" class=\"dataframe\">\n",
       "  <thead>\n",
       "    <tr style=\"text-align: right;\">\n",
       "      <th></th>\n",
       "      <th>Plant</th>\n",
       "      <th>Region</th>\n",
       "      <th>Product_ID</th>\n",
       "      <th>Month</th>\n",
       "      <th>Shipping_to_region_quantity</th>\n",
       "    </tr>\n",
       "  </thead>\n",
       "  <tbody>\n",
       "    <tr>\n",
       "      <th>0</th>\n",
       "      <td>A</td>\n",
       "      <td>R1</td>\n",
       "      <td>P1</td>\n",
       "      <td>37</td>\n",
       "      <td>NaN</td>\n",
       "    </tr>\n",
       "    <tr>\n",
       "      <th>1</th>\n",
       "      <td>A</td>\n",
       "      <td>R1</td>\n",
       "      <td>P2</td>\n",
       "      <td>37</td>\n",
       "      <td>NaN</td>\n",
       "    </tr>\n",
       "    <tr>\n",
       "      <th>2</th>\n",
       "      <td>A</td>\n",
       "      <td>R1</td>\n",
       "      <td>P3</td>\n",
       "      <td>37</td>\n",
       "      <td>NaN</td>\n",
       "    </tr>\n",
       "    <tr>\n",
       "      <th>3</th>\n",
       "      <td>A</td>\n",
       "      <td>R1</td>\n",
       "      <td>P4</td>\n",
       "      <td>37</td>\n",
       "      <td>NaN</td>\n",
       "    </tr>\n",
       "    <tr>\n",
       "      <th>4</th>\n",
       "      <td>A</td>\n",
       "      <td>R1</td>\n",
       "      <td>P5</td>\n",
       "      <td>37</td>\n",
       "      <td>NaN</td>\n",
       "    </tr>\n",
       "  </tbody>\n",
       "</table>\n",
       "</div>"
      ],
      "text/plain": [
       "  Plant Region Product_ID  Month  Shipping_to_region_quantity\n",
       "0     A     R1         P1     37                          NaN\n",
       "1     A     R1         P2     37                          NaN\n",
       "2     A     R1         P3     37                          NaN\n",
       "3     A     R1         P4     37                          NaN\n",
       "4     A     R1         P5     37                          NaN"
      ]
     },
     "execution_count": 17,
     "metadata": {},
     "output_type": "execute_result"
    }
   ],
   "source": [
    "print (test_ship.shape)\n",
    "test_ship.head()"
   ]
  },
  {
   "cell_type": "markdown",
   "metadata": {
    "collapsed": true
   },
   "source": [
    "# Demand Forecast"
   ]
  },
  {
   "cell_type": "code",
   "execution_count": 182,
   "metadata": {
    "collapsed": true
   },
   "outputs": [],
   "source": [
    "historical_demand['year']=1\n",
    "historical_demand.loc[(historical_demand.Month>=13),'year']=2\n",
    "historical_demand.loc[(historical_demand.Month>=25),'year']=3\n",
    "historical_demand['month_of_year']=historical_demand.Month\n",
    "historical_demand.loc[historical_demand.year==2,'month_of_year']=historical_demand.Month-12\n",
    "historical_demand.loc[historical_demand.year==3,'month_of_year']=historical_demand.Month-24\n",
    "test_demand['year']=4\n",
    "test_demand['month_of_year']=1\n",
    "test_demand.loc[test_demand.Month==38,'month_of_year']=2\n",
    "test_demand.loc[test_demand.Month==39,'month_of_year']=3"
   ]
  },
  {
   "cell_type": "code",
   "execution_count": 19,
   "metadata": {},
   "outputs": [
    {
     "name": "stdout",
     "output_type": "stream",
     "text": [
      "35\n"
     ]
    }
   ],
   "source": [
    "zero_demand=[]\n",
    "zero_demand_id_number=[]\n",
    "for i in range(1,82):\n",
    "    if historical_demand[historical_demand.Product_ID=='P'+str(i)].Demand.sum()==0:\n",
    "        zero_demand.append('P'+str(i))\n",
    "        zero_demand_id_number.append(i)\n",
    "#there are 35 products with no demand in any of the regions for last 36 months\n",
    "print (len(zero_demand))"
   ]
  },
  {
   "cell_type": "code",
   "execution_count": 20,
   "metadata": {},
   "outputs": [
    {
     "data": {
      "text/plain": [
       "[<matplotlib.lines.Line2D at 0x7efdafc9ac88>]"
      ]
     },
     "execution_count": 20,
     "metadata": {},
     "output_type": "execute_result"
    },
    {
     "data": {
      "image/png": "[encoded data removed]",
      "text/plain": [
       "<matplotlib.figure.Figure at 0x7efdb0266f28>"
      ]
     },
     "metadata": {},
     "output_type": "display_data"
    }
   ],
   "source": [
    "new=historical_demand[historical_demand.Product_ID=='P'+str(3)][(historical_demand\\\n",
    "    [historical_demand.Product_ID=='P'+str(3)].Demand!=0)]\n",
    "plt.plot(new[new.Region=='R11'].Month,new[new.Region=='R11'].Demand,marker='o')"
   ]
  },
  {
   "cell_type": "code",
   "execution_count": 21,
   "metadata": {
    "collapsed": true
   },
   "outputs": [],
   "source": [
    "#region wise product demand:\n",
    "not_all_zero=[]\n",
    "for i in range(1,82):\n",
    "    if i not in zero_demand_id_number:\n",
    "        not_all_zero.append(i)\n",
    "zero_pro_reg_demand=[]\n",
    "for i in not_all_zero:\n",
    "    for j in range(1,19):\n",
    "        if (historical_demand[(historical_demand.Product_ID=='P'+str(i))&(historical_demand.Region=='R'+str(j))].Demand.sum())==0:\n",
    "            tupl=(i,j)\n",
    "            zero_pro_reg_demand.append(tupl)       "
   ]
  },
  {
   "cell_type": "code",
   "execution_count": 183,
   "metadata": {},
   "outputs": [
    {
     "name": "stdout",
     "output_type": "stream",
     "text": [
      "67.0927963256836\n"
     ]
    }
   ],
   "source": [
    "start=time.time() #forecasting demand based on separately for each product and region combination\n",
    "for i in range(1,82):\n",
    "    for j in range(1,19):\n",
    "        train_data=historical_demand.loc[(historical_demand.Product_ID=='P'+str(i))&(historical_demand.Region=='R'+str(j))]\n",
    "        X=train_data[['month_of_year','year']]\n",
    "        y=train_data['Demand']\n",
    "        xg1=XGBRegressor(n_estimators=1000,max_depth=3)\n",
    "        xg1.fit(X,y)\n",
    "        pred_xg1=xg1.predict(test_demand[(test_demand.Product_ID=='P'+str(i))&(test_demand.Region=='R'+str(j))][['month_of_year','year']])\n",
    "        test_demand.loc[(test_demand.Product_ID=='P'+str(i))&(test_demand.Region=='R'+str(j)),'Demand']=pred_xg1   \n",
    "end=time.time()\n",
    "print (end-start)\n",
    "test_demand['Demand']=np.round(test_demand.Demand)\n",
    "#test_demand_month1=test_demand[test_demand.Month==37]\n",
    "# test_demand_month2=test_demand[test_demand.Month==38]\n",
    "# test_demand_month3=test_demand[test_demand.Month==39]"
   ]
  },
  {
   "cell_type": "code",
   "execution_count": 22,
   "metadata": {
    "collapsed": true
   },
   "outputs": [],
   "source": [
    "test_demand=pd.read_csv('/home/yash/Desktop/sample_av/demand_forecast.csv')\n",
    "test_demand_month1=test_demand[test_demand.Month==37]\n",
    "test_demand_month2=test_demand[test_demand.Month==38]\n",
    "test_demand_month3=test_demand[test_demand.Month==39]"
   ]
  },
  {
   "cell_type": "markdown",
   "metadata": {},
   "source": [
    "# Production"
   ]
  },
  {
   "cell_type": "code",
   "execution_count": 23,
   "metadata": {
    "collapsed": true
   },
   "outputs": [],
   "source": [
    "production_capacity['Product_ID']=production_capacity.Product.apply(lambda x:x.split('P')[1])\n",
    "production_capacity['Product_ID']=production_capacity['Product_ID'].astype('int')\n",
    "production_capacity=production_capacity.sort_values(['Product'])"
   ]
  },
  {
   "cell_type": "code",
   "execution_count": 24,
   "metadata": {
    "collapsed": true
   },
   "outputs": [],
   "source": [
    "#there are 13 products that are not produced in any plant,these are amongst the 35 products from zero_demand\n",
    "non_zero_capacity=np.unique(production_capacity.sort_values('Product')[production_capacity.Capacity!=0].Product)"
   ]
  },
  {
   "cell_type": "code",
   "execution_count": 25,
   "metadata": {},
   "outputs": [
    {
     "data": {
      "text/plain": [
       "<matplotlib.axes._subplots.AxesSubplot at 0x7efdaff60668>"
      ]
     },
     "execution_count": 25,
     "metadata": {},
     "output_type": "execute_result"
    },
    {
     "data": {
      "image/png": "[encoded data removed]",
      "text/plain": [
       "<matplotlib.figure.Figure at 0x7efdaff60f60>"
      ]
     },
     "metadata": {},
     "output_type": "display_data"
    }
   ],
   "source": [
    "test_demand_month1.groupby('Product_ID').Demand.sum()[test_demand_month1.groupby('Product_ID').Demand.sum()!=0].plot(kind='bar')"
   ]
  },
  {
   "cell_type": "code",
   "execution_count": 26,
   "metadata": {
    "collapsed": true
   },
   "outputs": [],
   "source": [
    "most_demanded_product_1=pd.DataFrame(columns=['R'+str(i)for i in range(1,19)])\n",
    "d=pd.DataFrame(columns=['D'+str(i)for i in range(1,19)])\n",
    "most_demanded_product_1 =pd.concat([most_demanded_product_1,d],axis=1)             \n",
    "for i in range(1,19):\n",
    "    most_demanded_product_1['R'+str(i)]=test_demand_month1[test_demand_month1.Region=='R'+str(i)].sort_values('Demand',ascending=False).Product_ID.values\n",
    "    most_demanded_product_1['D'+str(i)]=test_demand_month1[test_demand_month1.Region=='R'+str(i)].sort_values('Demand',ascending=False).Demand.values"
   ]
  },
  {
   "cell_type": "code",
   "execution_count": 27,
   "metadata": {
    "collapsed": true
   },
   "outputs": [],
   "source": [
    "production_capacity.set_index('Product',inplace=True)\n",
    "production_capacity.drop(zero_demand,axis=0,inplace=True)\n",
    "production_capacity.reset_index(inplace=True)\n",
    "production_capacity.sort_values(['Product','Plant'],inplace=True)"
   ]
  },
  {
   "cell_type": "code",
   "execution_count": 28,
   "metadata": {
    "collapsed": true
   },
   "outputs": [],
   "source": [
    "#creating Dataframe for total demand of each product for month 1 :product_division\n",
    "total_demand=test_demand_month1.set_index('Product_ID').drop(zero_demand,axis=0).reset_index().groupby('Product_ID').Demand.sum().values\n",
    "product_name=test_demand_month1.set_index('Product_ID').drop(zero_demand,axis=0).reset_index().groupby('Product_ID').Demand.sum().index.values\n",
    "product_division1=pd.DataFrame({'Product_Name':product_name,'Total_Demand':total_demand})"
   ]
  },
  {
   "cell_type": "code",
   "execution_count": 29,
   "metadata": {
    "collapsed": true
   },
   "outputs": [],
   "source": [
    "#creating Dataframe for total demand of each product for month 2&3 :product_division2,3\n",
    "total_demand2=test_demand_month2.set_index('Product_ID').drop(zero_demand,axis=0).reset_index().groupby('Product_ID').Demand.sum().values\n",
    "product_name2=test_demand_month2.set_index('Product_ID').drop(zero_demand,axis=0).reset_index().groupby('Product_ID').Demand.sum().index.values\n",
    "product_division2=pd.DataFrame({'Product_Name':product_name2,'Total_Demand':total_demand2})\n",
    "total_demand3=test_demand_month3.set_index('Product_ID').drop(zero_demand,axis=0).reset_index().groupby('Product_ID').Demand.sum().values\n",
    "product_name3=test_demand_month3.set_index('Product_ID').drop(zero_demand,axis=0).reset_index().groupby('Product_ID').Demand.sum().index.values\n",
    "product_division3=pd.DataFrame({'Product_Name':product_name3,'Total_Demand':total_demand3})"
   ]
  },
  {
   "cell_type": "code",
   "execution_count": 30,
   "metadata": {
    "collapsed": true
   },
   "outputs": [],
   "source": [
    "# product_plant=production_capacity.groupby(['Product','Plant']).Capacity.sum().index.values\n",
    "# capacity_plant_wise=production_capacity.groupby(['Product','Plant']).Capacity.sum().values\n",
    "# product_plant_capacity=[]\n",
    "# for i in range(82):\n",
    "#     a=list(product_plant[i])\n",
    "#     a.append(capacity_plant_wise[i])\n",
    "#     product_plant_capacity.append(a)  "
   ]
  },
  {
   "cell_type": "code",
   "execution_count": 31,
   "metadata": {
    "collapsed": true
   },
   "outputs": [],
   "source": [
    "production_cost.set_index('Product_ID',inplace=True)\n",
    "production_cost.drop(zero_demand,axis=0,inplace=True)\n",
    "production_cost.reset_index(inplace=True)\n",
    "production_cost_sorted=production_cost.sort_values(['Product_ID','Plant'])"
   ]
  },
  {
   "cell_type": "code",
   "execution_count": 32,
   "metadata": {
    "collapsed": true
   },
   "outputs": [],
   "source": [
    "#adding production cost data to total demand of a product\n",
    "final_Data=pd.DataFrame()\n",
    "for i in np.unique(production_cost_sorted.Product_ID):\n",
    "    a=production_cost_sorted[production_cost_sorted.Product_ID==i][['Product_ID','Plant','Production_cost']].values.flatten()\n",
    "    new_data=pd.DataFrame({str(i):a})\n",
    "    new_data=new_data.T\n",
    "    final_Data=pd.concat([final_Data,new_data],axis=0)"
   ]
  },
  {
   "cell_type": "code",
   "execution_count": 33,
   "metadata": {
    "collapsed": true
   },
   "outputs": [],
   "source": [
    "product_wise_capacity=pd.DataFrame()\n",
    "for i in np.unique(production_capacity.Product):\n",
    "    a=production_capacity[production_capacity.Product==i][['Product','Plant','Line','Capacity']].values.flatten()\n",
    "    new_data_1=pd.DataFrame({str(i):a})\n",
    "    new_data_1=new_data_1.T\n",
    "    product_wise_capacity=pd.concat([product_wise_capacity,new_data_1],axis=0)"
   ]
  },
  {
   "cell_type": "code",
   "execution_count": 34,
   "metadata": {
    "collapsed": true
   },
   "outputs": [],
   "source": [
    "final_Data.columns=['Product_A','Plant_A','A_Cost','Product_B','Plant_B','B_Cost','Product_C','Plant_C','C_Cost']\n",
    "product_division1.set_index('Product_Name',inplace=True)\n",
    "product_division1=pd.concat([product_division1,final_Data],axis=1)\n",
    "product_division1.drop(['Product_A','Product_B','Product_C'],axis=1,inplace=True)\n",
    "product_division2.set_index('Product_Name',inplace=True)\n",
    "product_division2=pd.concat([product_division2,final_Data],axis=1)\n",
    "product_division2.drop(['Product_A','Product_B','Product_C'],axis=1,inplace=True)\n",
    "product_division3.set_index('Product_Name',inplace=True)\n",
    "product_division3=pd.concat([product_division3,final_Data],axis=1)\n",
    "product_division3.drop(['Product_A','Product_B','Product_C'],axis=1,inplace=True)"
   ]
  },
  {
   "cell_type": "code",
   "execution_count": 35,
   "metadata": {
    "collapsed": true
   },
   "outputs": [],
   "source": [
    "product_wise_capacity.drop([0,4,8,12,16,20,1,5,9,13,17,21,2,6,10,14,18,22],axis=1,inplace=True)\n",
    "product_wise_capacity.columns=['A_1_capacity','A_2_capacity','B_1_capacity','B_2_capacity','B_3_capacity','C_1_capacity']\n",
    "product_division1=pd.concat([product_division1,product_wise_capacity],axis=1)\n",
    "product_division1.drop(['Plant_A','Plant_B','Plant_C'],axis=1,inplace=True)\n",
    "product_division2=pd.concat([product_division2,product_wise_capacity],axis=1)\n",
    "product_division2.drop(['Plant_A','Plant_B','Plant_C'],axis=1,inplace=True)\n",
    "product_division3=pd.concat([product_division3,product_wise_capacity],axis=1)\n",
    "product_division3.drop(['Plant_A','Plant_B','Plant_C'],axis=1,inplace=True)"
   ]
  },
  {
   "cell_type": "code",
   "execution_count": 36,
   "metadata": {
    "collapsed": true
   },
   "outputs": [],
   "source": [
    "#loading the maufacturing sequence ,which was created in excel\n",
    "manufacture_sequence_real=pd.read_csv('/home/yash/Downloads/manufacture_sequence2.csv',index_col=None)"
   ]
  },
  {
   "cell_type": "markdown",
   "metadata": {},
   "source": [
    "# Shipping"
   ]
  },
  {
   "cell_type": "code",
   "execution_count": 37,
   "metadata": {
    "collapsed": true
   },
   "outputs": [],
   "source": [
    "test_demand_month1['new']=test_demand_month1['Product_ID']+test_demand_month1['Region']\n",
    "test_demand_month2['new']=test_demand_month2['Product_ID']+test_demand_month2['Region']\n",
    "test_demand_month3['new']=test_demand_month3['Product_ID']+test_demand_month3['Region']\n",
    "test_ship['new']=test_ship.Product_ID+test_ship.Region\n",
    "test_demand_month1.sort_values('new',inplace=True)\n",
    "test_demand_month2.sort_values('new',inplace=True)\n",
    "test_demand_month3.sort_values('new',inplace=True)"
   ]
  },
  {
   "cell_type": "code",
   "execution_count": 38,
   "metadata": {
    "collapsed": true
   },
   "outputs": [],
   "source": [
    "test_ship1a=test_ship[(test_ship.Plant=='A')&(test_ship.Month==37)].sort_values('new')\n",
    "test_ship1b=test_ship[(test_ship.Plant=='B')&(test_ship.Month==37)].sort_values('new')\n",
    "test_ship1c=test_ship[(test_ship.Plant=='C')&(test_ship.Month==37)].sort_values('new')\n",
    "test_ship2a=test_ship[(test_ship.Plant=='A')&(test_ship.Month==38)].sort_values('new')\n",
    "test_ship2b=test_ship[(test_ship.Plant=='B')&(test_ship.Month==38)].sort_values('new')\n",
    "test_ship2c=test_ship[(test_ship.Plant=='C')&(test_ship.Month==38)].sort_values('new')\n",
    "test_ship3a=test_ship[(test_ship.Plant=='A')&(test_ship.Month==39)].sort_values('new')\n",
    "test_ship3b=test_ship[(test_ship.Plant=='B')&(test_ship.Month==39)].sort_values('new')\n",
    "test_ship3c=test_ship[(test_ship.Plant=='C')&(test_ship.Month==39)].sort_values('new')\n",
    "test_ship1a['Demand']=test_demand_month1['Demand'].values\n",
    "test_ship1b['Demand']=test_demand_month1['Demand'].values\n",
    "test_ship1c['Demand']=test_demand_month1['Demand'].values\n",
    "test_ship2a['Demand']=test_demand_month2['Demand'].values\n",
    "test_ship2b['Demand']=test_demand_month2['Demand'].values\n",
    "test_ship2c['Demand']=test_demand_month2['Demand'].values\n",
    "test_ship3a['Demand']=test_demand_month3['Demand'].values\n",
    "test_ship3b['Demand']=test_demand_month3['Demand'].values\n",
    "test_ship3c['Demand']=test_demand_month3['Demand'].values\n",
    "test_ship_new=pd.concat([test_ship1a,test_ship1b,test_ship1c,test_ship2a,test_ship2b,test_ship2c,test_ship3a,test_ship3b,test_ship3c],axis=0)"
   ]
  },
  {
   "cell_type": "code",
   "execution_count": 39,
   "metadata": {},
   "outputs": [
    {
     "data": {
      "text/html": [
       "<div>\n",
       "<style>\n",
       "    .dataframe thead tr:only-child th {\n",
       "        text-align: right;\n",
       "    }\n",
       "\n",
       "    .dataframe thead th {\n",
       "        text-align: left;\n",
       "    }\n",
       "\n",
       "    .dataframe tbody tr th {\n",
       "        vertical-align: top;\n",
       "    }\n",
       "</style>\n",
       "<table border=\"1\" class=\"dataframe\">\n",
       "  <thead>\n",
       "    <tr style=\"text-align: right;\">\n",
       "      <th></th>\n",
       "      <th>Plant</th>\n",
       "      <th>Region</th>\n",
       "      <th>Product_ID</th>\n",
       "      <th>Month</th>\n",
       "      <th>Shipping_to_region_quantity</th>\n",
       "      <th>new</th>\n",
       "      <th>Demand</th>\n",
       "    </tr>\n",
       "  </thead>\n",
       "  <tbody>\n",
       "    <tr>\n",
       "      <th>9</th>\n",
       "      <td>A</td>\n",
       "      <td>R1</td>\n",
       "      <td>P10</td>\n",
       "      <td>37</td>\n",
       "      <td>NaN</td>\n",
       "      <td>P10R1</td>\n",
       "      <td>0.0</td>\n",
       "    </tr>\n",
       "    <tr>\n",
       "      <th>738</th>\n",
       "      <td>A</td>\n",
       "      <td>R10</td>\n",
       "      <td>P10</td>\n",
       "      <td>37</td>\n",
       "      <td>NaN</td>\n",
       "      <td>P10R10</td>\n",
       "      <td>0.0</td>\n",
       "    </tr>\n",
       "    <tr>\n",
       "      <th>819</th>\n",
       "      <td>A</td>\n",
       "      <td>R11</td>\n",
       "      <td>P10</td>\n",
       "      <td>37</td>\n",
       "      <td>NaN</td>\n",
       "      <td>P10R11</td>\n",
       "      <td>0.0</td>\n",
       "    </tr>\n",
       "    <tr>\n",
       "      <th>900</th>\n",
       "      <td>A</td>\n",
       "      <td>R12</td>\n",
       "      <td>P10</td>\n",
       "      <td>37</td>\n",
       "      <td>NaN</td>\n",
       "      <td>P10R12</td>\n",
       "      <td>0.0</td>\n",
       "    </tr>\n",
       "    <tr>\n",
       "      <th>981</th>\n",
       "      <td>A</td>\n",
       "      <td>R13</td>\n",
       "      <td>P10</td>\n",
       "      <td>37</td>\n",
       "      <td>NaN</td>\n",
       "      <td>P10R13</td>\n",
       "      <td>0.0</td>\n",
       "    </tr>\n",
       "  </tbody>\n",
       "</table>\n",
       "</div>"
      ],
      "text/plain": [
       "    Plant Region Product_ID  Month  Shipping_to_region_quantity     new  \\\n",
       "9       A     R1        P10     37                          NaN   P10R1   \n",
       "738     A    R10        P10     37                          NaN  P10R10   \n",
       "819     A    R11        P10     37                          NaN  P10R11   \n",
       "900     A    R12        P10     37                          NaN  P10R12   \n",
       "981     A    R13        P10     37                          NaN  P10R13   \n",
       "\n",
       "     Demand  \n",
       "9       0.0  \n",
       "738     0.0  \n",
       "819     0.0  \n",
       "900     0.0  \n",
       "981     0.0  "
      ]
     },
     "execution_count": 39,
     "metadata": {},
     "output_type": "execute_result"
    }
   ],
   "source": [
    "test_ship_new.head()"
   ]
  },
  {
   "cell_type": "code",
   "execution_count": 40,
   "metadata": {
    "collapsed": true
   },
   "outputs": [],
   "source": [
    "produced_in_A=list(manufacture_sequence_real[manufacture_sequence_real.Plant=='A'].Product_ID.unique())\n",
    "produced_in_B=list(manufacture_sequence_real[manufacture_sequence_real.Plant=='B'].Product_ID.unique())\n",
    "produced_in_C=list(manufacture_sequence_real[manufacture_sequence_real.Plant=='C'].Product_ID.unique())"
   ]
  },
  {
   "cell_type": "code",
   "execution_count": 41,
   "metadata": {
    "collapsed": true
   },
   "outputs": [],
   "source": [
    "test_ship_new['Produced_in']=0\n",
    "test_ship_new.loc[test_ship_new.Product_ID.isin(produced_in_A),'Produced_in']='A'\n",
    "test_ship_new.loc[test_ship_new.Product_ID.isin(produced_in_B),'Produced_in']='B'\n",
    "test_ship_new.loc[test_ship_new.Product_ID.isin(produced_in_C),'Produced_in']='C'\n",
    "test_ship_new.sort_index(inplace=True)"
   ]
  },
  {
   "cell_type": "code",
   "execution_count": 42,
   "metadata": {
    "collapsed": true
   },
   "outputs": [],
   "source": [
    "test_ship_new['Delivery_cost']=0\n",
    "for i in ['A','B','C']:\n",
    "    for j in delivery_cost.Region.unique():\n",
    "            test_ship_new.loc[(test_ship_new.Plant==i)&(test_ship_new.Region==j),'Delivery_cost']=delivery_cost[(delivery_cost.Plant==i)&(delivery_cost.Region==j)].Delivery_cost.values"
   ]
  },
  {
   "cell_type": "code",
   "execution_count": 43,
   "metadata": {
    "collapsed": true
   },
   "outputs": [],
   "source": [
    "test_ship_new['Demand_price']=0\n",
    "for i in test_ship_new.Region.unique():\n",
    "    for j in test_ship_new.Product_ID.unique():\n",
    "        test_ship_new.loc[(test_ship_new.Region==i)&(test_ship_new.Product_ID==j),'Demand_price']=demand_price[(demand_price.Region==i)&(demand_price.Product_ID==j)].Demand_price.values"
   ]
  },
  {
   "cell_type": "code",
   "execution_count": 167,
   "metadata": {},
   "outputs": [
    {
     "data": {
      "text/html": [
       "<div>\n",
       "<style>\n",
       "    .dataframe thead tr:only-child th {\n",
       "        text-align: right;\n",
       "    }\n",
       "\n",
       "    .dataframe thead th {\n",
       "        text-align: left;\n",
       "    }\n",
       "\n",
       "    .dataframe tbody tr th {\n",
       "        vertical-align: top;\n",
       "    }\n",
       "</style>\n",
       "<table border=\"1\" class=\"dataframe\">\n",
       "  <thead>\n",
       "    <tr style=\"text-align: right;\">\n",
       "      <th></th>\n",
       "      <th>level_1</th>\n",
       "      <th>total</th>\n",
       "      <th>month 1</th>\n",
       "      <th>month2</th>\n",
       "      <th>month 3</th>\n",
       "    </tr>\n",
       "  </thead>\n",
       "  <tbody>\n",
       "    <tr>\n",
       "      <th>0</th>\n",
       "      <td>P58</td>\n",
       "      <td>595</td>\n",
       "      <td>255</td>\n",
       "      <td>85</td>\n",
       "      <td>255</td>\n",
       "    </tr>\n",
       "    <tr>\n",
       "      <th>1</th>\n",
       "      <td>P74</td>\n",
       "      <td>70</td>\n",
       "      <td>70</td>\n",
       "      <td>0</td>\n",
       "      <td>0</td>\n",
       "    </tr>\n",
       "    <tr>\n",
       "      <th>2</th>\n",
       "      <td>P43</td>\n",
       "      <td>1430</td>\n",
       "      <td>520</td>\n",
       "      <td>390</td>\n",
       "      <td>520</td>\n",
       "    </tr>\n",
       "    <tr>\n",
       "      <th>3</th>\n",
       "      <td>P67</td>\n",
       "      <td>280</td>\n",
       "      <td>140</td>\n",
       "      <td>140</td>\n",
       "      <td>0</td>\n",
       "    </tr>\n",
       "    <tr>\n",
       "      <th>4</th>\n",
       "      <td>P9</td>\n",
       "      <td>3400</td>\n",
       "      <td>1200</td>\n",
       "      <td>1000</td>\n",
       "      <td>1200</td>\n",
       "    </tr>\n",
       "  </tbody>\n",
       "</table>\n",
       "</div>"
      ],
      "text/plain": [
       "  level_1  total  month 1  month2  month 3\n",
       "0     P58    595      255      85      255\n",
       "1     P74     70       70       0        0\n",
       "2     P43   1430      520     390      520\n",
       "3     P67    280      140     140        0\n",
       "4      P9   3400     1200    1000     1200"
      ]
     },
     "execution_count": 167,
     "metadata": {},
     "output_type": "execute_result"
    }
   ],
   "source": [
    "total_production=pd.read_excel('/home/yash/Downloads/manufacture_sequence2 _final.xlsx',sheetname=3)\n",
    "total_production.reset_index(inplace=True)\n",
    "total_production.drop('level_0',inplace=True,axis=1)\n",
    "total_production.head()"
   ]
  },
  {
   "cell_type": "code",
   "execution_count": 73,
   "metadata": {
    "collapsed": true
   },
   "outputs": [],
   "source": [
    "test_ship_new['profit']=(test_ship_new['Demand_price']-test_ship_new['Delivery_cost'])*test_ship_new['Demand']\n",
    "test_ship_new.loc[test_ship_new.profit<0,'profit']=0"
   ]
  },
  {
   "cell_type": "code",
   "execution_count": 168,
   "metadata": {
    "collapsed": true
   },
   "outputs": [],
   "source": [
    "test_ship_new['total_production']=0\n",
    "for i in total_production.level_1.unique():\n",
    "    for month,j in zip([37,38,39],['month 1','month2','month 3']):\n",
    "        a=total_production[total_production.level_1==i][j].values[0]   \n",
    "        test_ship_new.loc[((test_ship_new.Month==month)&(test_ship_new.Product_ID==i)),'total_production']=a                         "
   ]
  },
  {
   "cell_type": "code",
   "execution_count": 169,
   "metadata": {
    "collapsed": true
   },
   "outputs": [],
   "source": [
    "# test_ship_new['profit_normal']=0\n",
    "# for i in total_production.level_1.unique():\n",
    "#     for j in [37,38,39]:\n",
    "#         profit_sum=test_ship_new[(test_ship_new.Plant==test_ship_new.Produced_in)&(test_ship_new.Month==j)&(test_ship_new.Product_ID==i)].profit.sum()\n",
    "#         test_ship_new.loc[(test_ship_new.Plant==test_ship_new.Produced_in)&(test_ship_new.Month==j)&(test_ship_new.Product_ID==i),'profit_normal']=test_ship_new[(test_ship_new.Plant==test_ship_new.Produced_in)&(test_ship_new.Month==j)&(test_ship_new.Product_ID==i)].profit.values/profit_sum \n",
    "test_ship_new['Shipping_to_region_quantity']=test_ship_new['profit_normal']*test_ship_new['total_production']\n",
    "test_ship_new['Shipping_to_region_quantity']=np.floor(test_ship_new['Shipping_to_region_quantity'])"
   ]
  },
  {
   "cell_type": "code",
   "execution_count": 170,
   "metadata": {
    "collapsed": true
   },
   "outputs": [],
   "source": [
    "test_ship=test_ship_new[['Plant','Region','Product_ID','Month','Shipping_to_region_quantity']]\n",
    "test_ship.set_index('Plant',inplace=True)\n",
    "# test_demand.set_index('Product_ID',inplace=True)\n",
    "# manufacture_sequence_real.set_index('Plant',inplace=True)\n",
    "# test_demand.to_csv('/home/yash/Desktop/av_submit/demand_forecast.csv')\n",
    "#test_ship.to_csv('/home/yash/Desktop/av_submit/shipping_region.csv')\n",
    "# manufacture_sequence_real.to_csv('/home/yash/Desktop/av_submit/manufacture_sequence.csv')"
   ]
  },
  {
   "cell_type": "code",
   "execution_count": 185,
   "metadata": {
    "collapsed": true
   },
   "outputs": [],
   "source": [
    "test_demand_final=test_demand[['Product_ID',\"Region\",'Month','Demand']]\n",
    "test_demand_final.set_index('Product_ID',inplace=True)\n",
    "test_demand_final.to_csv('/home/yash/Desktop/av_2/demand_forecast.csv')"
   ]
  },
  {
   "cell_type": "code",
   "execution_count": null,
   "metadata": {
    "collapsed": true
   },
   "outputs": [],
   "source": []
  }
 ],
 "metadata": {
  "kernelspec": {
   "display_name": "Python 3",
   "language": "python",
   "name": "python3"
  },
  "language_info": {
   "codemirror_mode": {
    "name": "ipython",
    "version": 3
   },
   "file_extension": ".py",
   "mimetype": "text/x-python",
   "name": "python",
   "nbconvert_exporter": "python",
   "pygments_lexer": "ipython3",
   "version": "3.6.3"
  }
 },
 "nbformat": 4,
 "nbformat_minor": 2
}
